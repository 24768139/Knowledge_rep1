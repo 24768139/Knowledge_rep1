{
 "cells": [
  {
   "cell_type": "markdown",
   "metadata": {},
   "source": [
    "# Learning the Best Diabetes Medication\n",
    "\n",
    "Here we implement the Bayesian belief model from Chapter 4 to find the best Diabetes medication. The following inputs are needed to fully specify the statistical model:\n",
    "\n",
    "1. `S0`: For every drug, we maintain a *belief* about its A1C reduction. The beliefs are modelled as a set of normal distributions (i.e., two parameters per drug) that evolve as we make observations. The initial belief is specified with a mean and standard deviation derived from, e.g., the efficacy of each drug over an entire population (many individuals).\n",
    "2. `mu_truth`: When simulating the model, the true (but unknown) value for the A1C reduction of every drug must be simulated as well. We do that by directly passing a `scipy.stats.uniform` object, from which the model can draw samples. Caution: The two arguments of `scipy.stats.uniform`, `loc` and `scale` are not the upper and lower bound, but the lower and upper bounds will be `[loc, loc+scale]`. It is also possible to select fixed values for `mu_truth`. In this case, select a uniform distribution where the lower and upper bound are equal. \n",
    "3. `sigma_W`: This is the standard deviation of an observation. Observations are sampled from a normal distribution with mean `mu_truth` and standard deviation `sigma_W`.\n",
    "\n",
    "We first create a model where `mu_truth` is fixed, that means we have only one random process (observational uncertainty)."
   ]
  },
  {
   "cell_type": "code",
   "execution_count": null,
   "metadata": {},
   "outputs": [],
   "source": [
    "import scipy.stats\n",
    "import numpy as np\n",
    "import plotly.express as px\n",
    "import plotly.graph_objects as go\n",
    "import MedicalDecisionDiabetesModel as mddm\n",
    "import MedicalDecisionDiabetesPolicies as mddp\n",
    "import BaseClasses.Util as util\n",
    "\n",
    "S0 = {\n",
    "    \"M\":    [0.32, 0.12],\n",
    "    \"Sens\": [0.28, 0.09],\n",
    "    \"Secr\": [0.3, 0.17],\n",
    "    \"AGI\":  [0.26, 0.15],\n",
    "    \"PA\":   [0.21, 0.11],\n",
    "}\n",
    "\n",
    "mu_truth = {\n",
    "    \"M\":    scipy.stats.uniform(loc=0.3, scale=0.0),\n",
    "    \"Sens\": scipy.stats.uniform(loc=0.2, scale=0.0),\n",
    "    \"Secr\": scipy.stats.uniform(loc=0.4, scale=0.0),\n",
    "    \"AGI\":  scipy.stats.uniform(loc=0.33, scale=0.0),\n",
    "    \"PA\":   scipy.stats.uniform(loc=0.35, scale=0.0),\n",
    "}\n",
    "\n",
    "model = mddm.MedicalDecisionDiabetesModel(S0=S0, mu_truth=mu_truth, sigma_W=0.05, T=20)"
   ]
  },
  {
   "cell_type": "markdown",
   "metadata": {},
   "source": [
    "Next, we create an upper confidence bound policy and run it for 1000 iterations. In each iteration, we have 20 observations/trials. The objective is to maximize the total level of A1C reduction with these 20 trials. "
   ]
  },
  {
   "cell_type": "code",
   "execution_count": null,
   "metadata": {},
   "outputs": [],
   "source": [
    "policy = mddp.UCB(model, theta=1)\n",
    "policy.run_policy(n_iterations=1000)"
   ]
  },
  {
   "cell_type": "markdown",
   "metadata": {},
   "source": [
    "We have a closer look at one sample run. The state variable for every drug are given as triples. We create one column for mean, standard deviation, and $N_x$. "
   ]
  },
  {
   "cell_type": "code",
   "execution_count": null,
   "metadata": {},
   "outputs": [],
   "source": [
    "for drug in S0.keys():\n",
    "    policy.results[drug + \"_mu\"] = policy.results[drug].apply(lambda x: x[0])\n",
    "    policy.results[drug + \"_sigma\"] = 1.0/policy.results[drug].apply(lambda x: np.sqrt(x[1]))\n",
    "    policy.results[drug + \"_N\"] = policy.results[drug].apply(lambda x: x[2])\n",
    "    policy.results[drug + \"_chosen\"] = policy.results.groupby(\"N\")[drug + \"_N\"].diff()"
   ]
  },
  {
   "cell_type": "markdown",
   "metadata": {},
   "source": [
    "Now we plot a random iteration of 20 trials. We plot\n",
    "- the current belief $\\mu^n_x$ for every drug\n",
    "- the current uncertainty in the belief $\\sigma^n_x$ as errorbars\n",
    "\n",
    "Only when a drug is chosen, $\\mu^n_x$ and $\\sigma^n_x$ will change. $\\sigma^n_x$ will be monotonically decreasing (we are getting more certain the more often we try a drug)."
   ]
  },
  {
   "cell_type": "code",
   "execution_count": null,
   "metadata": {},
   "outputs": [],
   "source": [
    "sample_paths = np.random.choice(1000, size=1, replace=False)\n",
    "df = policy.results.loc[policy.results.N.isin(sample_paths), :]\n",
    "\n",
    "long_df = df.melt(id_vars=[\"t\",\"N\"], value_vars=[\"M_mu\", \"Sens_mu\", \"Secr_mu\", \"AGI_mu\", \"PA_mu\"], value_name=\"mu\", var_name=\"drug\")\n",
    "long_df[\"sigma\"] = df[[\"M_sigma\", \"Sens_sigma\", \"Secr_sigma\", \"AGI_sigma\", \"PA_sigma\"]].unstack().values\n",
    "long_df[\"chosen\"] = df[[\"M_chosen\", \"Sens_chosen\", \"Secr_chosen\", \"AGI_chosen\", \"PA_chosen\"]].unstack().values\n",
    "\n",
    "px.line(data_frame=long_df, x=\"t\", y=\"mu\", color=\"drug\", error_y=\"sigma\", facet_row=\"N\", hover_data=\"chosen\", markers=True)"
   ]
  },
  {
   "cell_type": "markdown",
   "metadata": {},
   "source": [
    "## Exercise 1\n",
    "Perform a grid search for the UCB policy with values $\\theta=0.0,0.2,\\dots,2.0$ and plot the performance for each value of $\\theta$. What do you learn from this plot?"
   ]
  },
  {
   "cell_type": "markdown",
   "metadata": {},
   "source": [
    "---"
   ]
  },
  {
   "cell_type": "markdown",
   "metadata": {},
   "source": [
    "## Exercise 2\n",
    "In this exercise we investigate the interval estimation policy. We are going to evaluate it for three different sets of thruths. For each of the three cases run a grid search for $\\theta=0.0,0.2,\\dots,2.0$ with 10000 iterations and plot the average performance against the value of $\\theta$.\n",
    "\n",
    "1. Use the values for `S0` and `mu_truth` just as given at the beginning of the notebook (you can even reuse the model object). \n",
    "2. Let $\\mu_x^0$ be your initial belief about the performance of drug $x$. Use $\\mu_x^0$ as given in `S0` above but simulate the truth by taking a sample of a uniform distribution on the interval $[0.5\\mu_x^0, 1.5\\mu_x^0]$. This is an example of having a prior distribution of belief (in this case, that is normally distributed) but sampling the truth from a different distribution (that is uniformly distributed around the mean).\n",
    "3. Set `S0` such that the prior is $\\mu_x^0=0.3$ for all five drugs $x$ with initial standard deviation $\\sigma_x^0=0.1$. Sample `mu_truth` for all five drugs uniformly from the interval $[0.15,0.45]$.\n",
    "\n",
    "What conclusions can you draw from each of the plots?"
   ]
  }
 ],
 "metadata": {
  "kernelspec": {
   "display_name": "sda",
   "language": "python",
   "name": "python3"
  },
  "language_info": {
   "codemirror_mode": {
    "name": "ipython",
    "version": 3
   },
   "file_extension": ".py",
   "mimetype": "text/x-python",
   "name": "python",
   "nbconvert_exporter": "python",
   "pygments_lexer": "ipython3",
   "version": "3.10.12"
  }
 },
 "nbformat": 4,
 "nbformat_minor": 2
}
