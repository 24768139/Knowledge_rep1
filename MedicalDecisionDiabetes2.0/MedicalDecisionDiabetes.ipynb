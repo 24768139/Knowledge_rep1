{
 "cells": [
  {
   "cell_type": "code",
   "execution_count": 181,
   "metadata": {},
   "outputs": [
    {
     "data": {
      "text/plain": [
       "6.348701438558171"
      ]
     },
     "execution_count": 181,
     "metadata": {},
     "output_type": "execute_result"
    }
   ],
   "source": [
    "import scipy.stats\n",
    "import numpy as np\n",
    "import MedicalDecisionDiabetesModel as mddm\n",
    "import MedicalDecisionDiabetesPolicies as mddp\n",
    "import BaseClasses.Util as util\n",
    "\n",
    "import importlib\n",
    "importlib.reload(mddm)\n",
    "importlib.reload(mddp)\n",
    "\n",
    "S0 = {\n",
    "    \"M\":    [0.32, 0.12],\n",
    "    \"Sens\": [0.28, 0.12],\n",
    "    \"Secr\": [0.3, 0.17],\n",
    "    \"AGI\":  [0.26, 0.15],\n",
    "    \"PA\":   [0.21, 0.11],\n",
    "}\n",
    "\n",
    "mu_truth = {\n",
    "    \"M\":    scipy.stats.uniform(0.3, 0.0),\n",
    "    \"Sens\": scipy.stats.uniform(0.2, 0.0),\n",
    "    \"Secr\": scipy.stats.uniform(0.4, 0.0),\n",
    "    \"AGI\":  scipy.stats.uniform(0.33, 0.0),\n",
    "    \"PA\":   scipy.stats.uniform(0.35, 0.0),\n",
    "}\n",
    "\n",
    "model = mddm.MedicalDecisionDiabetesModel(S0=S0, mu_truth=mu_truth, sigma_W=0.05, T=20)\n",
    "policy = mddp.UCB(model)\n",
    "policy.run_policy(n_iterations=1)\n"
   ]
  },
  {
   "cell_type": "code",
   "execution_count": 183,
   "metadata": {},
   "outputs": [
    {
     "data": {
      "text/plain": [
       "{'best_parameters': {'theta': 0.5},\n",
       " 'best_performance': 6.748844492242367,\n",
       " 'parameter_list': [{'theta': 0.5},\n",
       "  {'theta': 1.0},\n",
       "  {'theta': 1.5},\n",
       "  {'theta': 2.0},\n",
       "  {'theta': 2.5}],\n",
       " 'performance_list': [6.748844492242367,\n",
       "  6.555844492242366,\n",
       "  6.520844492242366,\n",
       "  6.460844492242368,\n",
       "  6.420844492242367]}"
      ]
     },
     "execution_count": 183,
     "metadata": {},
     "output_type": "execute_result"
    }
   ],
   "source": [
    "grid = {\"theta\": np.linspace(0.5,2.5,5)}\n",
    "util.grid_search(grid, policy, 10)"
   ]
  },
  {
   "cell_type": "code",
   "execution_count": null,
   "metadata": {},
   "outputs": [],
   "source": []
  }
 ],
 "metadata": {
  "kernelspec": {
   "display_name": "sda",
   "language": "python",
   "name": "python3"
  },
  "language_info": {
   "codemirror_mode": {
    "name": "ipython",
    "version": 3
   },
   "file_extension": ".py",
   "mimetype": "text/x-python",
   "name": "python",
   "nbconvert_exporter": "python",
   "pygments_lexer": "ipython3",
   "version": "3.12.0"
  }
 },
 "nbformat": 4,
 "nbformat_minor": 2
}
