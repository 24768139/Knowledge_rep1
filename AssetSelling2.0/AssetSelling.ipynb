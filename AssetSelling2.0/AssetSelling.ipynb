{
 "cells": [
  {
   "cell_type": "code",
   "execution_count": 6,
   "metadata": {},
   "outputs": [],
   "source": [
    "import importlib\n",
    "import pandas as pd\n",
    "import numpy as np\n",
    "import AssetSellingModel as asm\n",
    "import AssetSellingPolicies as asp\n",
    "import BaseClasses.Util as util\n",
    "\n",
    "importlib.reload(asm)\n",
    "importlib.reload(asp)\n",
    "importlib.reload(util)\n",
    "\n",
    "model = asm.AssetSellingModel(S0={\"price\": 10}, T=20)\n",
    "# policy = asp.SellLowPolicy(model=model, theta_low=11)\n",
    "policy = asp.HighLowPolicy(model=model, theta_low=5, theta_high=15)\n",
    "# policy = asp.TrackPolicy(model=model)"
   ]
  },
  {
   "cell_type": "code",
   "execution_count": 7,
   "metadata": {},
   "outputs": [
    {
     "data": {
      "text/plain": [
       "11.353107322090086"
      ]
     },
     "execution_count": 7,
     "metadata": {},
     "output_type": "execute_result"
    }
   ],
   "source": [
    "policy.run_policy(n_iterations=10)\n",
    "# policy.results\n"
   ]
  },
  {
   "cell_type": "code",
   "execution_count": 8,
   "metadata": {},
   "outputs": [],
   "source": [
    "grid = {\"theta_low\": np.linspace(5, 30, 5), \"theta_high\": np.linspace(5, 30, 5)}\n",
    "\n",
    "res = util.grid_search(grid, policy, 10, True)\n"
   ]
  },
  {
   "cell_type": "code",
   "execution_count": 9,
   "metadata": {},
   "outputs": [
    {
     "data": {
      "text/plain": [
       "[11.204987802598096,\n",
       " 11.661836136367388,\n",
       " 12.440703216939884,\n",
       " 11.315118008623964,\n",
       " 10.0,\n",
       " 10.0,\n",
       " 10.0,\n",
       " 10.0,\n",
       " 10.0,\n",
       " 10.0]"
      ]
     },
     "execution_count": 9,
     "metadata": {},
     "output_type": "execute_result"
    }
   ],
   "source": [
    "res[\"performance_list\"]"
   ]
  },
  {
   "cell_type": "code",
   "execution_count": 10,
   "metadata": {},
   "outputs": [
    {
     "data": {
      "text/plain": [
       "[{'theta_low': 5.0, 'theta_high': 11.25},\n",
       " {'theta_low': 5.0, 'theta_high': 17.5},\n",
       " {'theta_low': 5.0, 'theta_high': 23.75},\n",
       " {'theta_low': 5.0, 'theta_high': 30.0},\n",
       " {'theta_low': 11.25, 'theta_high': 17.5},\n",
       " {'theta_low': 11.25, 'theta_high': 23.75},\n",
       " {'theta_low': 11.25, 'theta_high': 30.0},\n",
       " {'theta_low': 17.5, 'theta_high': 23.75},\n",
       " {'theta_low': 17.5, 'theta_high': 30.0},\n",
       " {'theta_low': 23.75, 'theta_high': 30.0}]"
      ]
     },
     "execution_count": 10,
     "metadata": {},
     "output_type": "execute_result"
    }
   ],
   "source": [
    "res[\"parameter_list\"]"
   ]
  },
  {
   "cell_type": "code",
   "execution_count": null,
   "metadata": {},
   "outputs": [],
   "source": []
  }
 ],
 "metadata": {
  "kernelspec": {
   "display_name": "sda",
   "language": "python",
   "name": "python3"
  },
  "language_info": {
   "codemirror_mode": {
    "name": "ipython",
    "version": 3
   },
   "file_extension": ".py",
   "mimetype": "text/x-python",
   "name": "python",
   "nbconvert_exporter": "python",
   "pygments_lexer": "ipython3",
   "version": "3.12.0"
  }
 },
 "nbformat": 4,
 "nbformat_minor": 2
}
