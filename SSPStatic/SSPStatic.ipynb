{
 "cells": [
  {
   "cell_type": "code",
   "execution_count": 17,
   "metadata": {},
   "outputs": [],
   "source": [
    "import osmnx as ox\n",
    "G = ox.graph_from_place(\"Dillenburg, Germany\")"
   ]
  },
  {
   "cell_type": "code",
   "execution_count": 21,
   "metadata": {},
   "outputs": [],
   "source": [
    "# impute missing edge speeds then calculate edge travel times\n",
    "G = ox.add_edge_speeds(G)\n",
    "G = ox.add_edge_travel_times(G)\n",
    "# convert graph to geodataframes\n",
    "nodes, edges = ox.graph_to_gdfs(G)"
   ]
  },
  {
   "cell_type": "code",
   "execution_count": 22,
   "metadata": {},
   "outputs": [
    {
     "name": "stdout",
     "output_type": "stream",
     "text": [
      "897605955 294195551\n"
     ]
    }
   ],
   "source": [
    "# get the nearest network nodes to two points\n",
    "orig = ox.distance.nearest_nodes(G, Y=50.730915, X=8.286034) \n",
    "dest = ox.distance.nearest_nodes(G, Y=50.738617, X=8.288338)\n",
    "print(orig, dest)"
   ]
  },
  {
   "cell_type": "code",
   "execution_count": 25,
   "metadata": {},
   "outputs": [
    {
     "name": "stdout",
     "output_type": "stream",
     "text": [
      "{'osmid': [76089577, 1134941879], 'name': 'Hasenpfad', 'highway': ['service', 'footway'], 'oneway': False, 'reversed': False, 'length': 70.108, 'geometry': <LINESTRING (8.286 50.731, 8.286 50.731, 8.286 50.731, 8.286 50.732, 8.286 5...>, 'speed_kph': 31.6, 'travel_time': 8.0}\n",
      "{'osmid': 27859463, 'name': 'Hartigstraße', 'highway': 'residential', 'maxspeed': '30', 'oneway': False, 'reversed': True, 'length': 69.48599999999999, 'geometry': <LINESTRING (8.286 50.732, 8.286 50.732, 8.285 50.732, 8.285 50.732, 8.285 5...>, 'speed_kph': 30.0, 'travel_time': 8.3}\n",
      "{'osmid': 27859445, 'name': 'Baumgartenstraße', 'highway': 'residential', 'maxspeed': '30', 'oneway': False, 'reversed': False, 'length': 189.20999999999998, 'geometry': <LINESTRING (8.285 50.732, 8.285 50.732, 8.286 50.732, 8.286 50.732, 8.287 5...>, 'speed_kph': 30.0, 'travel_time': 22.7}\n",
      "{'osmid': 399304705, 'name': 'Tiergartenstraße', 'highway': 'residential', 'maxspeed': '30', 'oneway': False, 'reversed': True, 'length': 30.4, 'geometry': <LINESTRING (8.287 50.733, 8.287 50.733, 8.287 50.733, 8.287 50.733, 8.287 5...>, 'speed_kph': 30.0, 'travel_time': 3.6}\n",
      "{'osmid': 32733118, 'lanes': '2', 'name': 'Mittelfeldstraße', 'highway': 'residential', 'maxspeed': '50', 'oneway': False, 'reversed': False, 'length': 44.016, 'speed_kph': 50.0, 'travel_time': 3.2}\n",
      "{'osmid': 771413821, 'lanes': '3', 'name': 'Mittelfeldstraße', 'highway': 'residential', 'maxspeed': '50', 'oneway': False, 'reversed': False, 'length': 62.245999999999995, 'geometry': <LINESTRING (8.288 50.733, 8.289 50.733, 8.289 50.733)>, 'speed_kph': 50.0, 'travel_time': 4.5}\n",
      "{'osmid': 632129486, 'name': 'Wilhelmstraße', 'highway': 'residential', 'maxspeed': '30', 'oneway': False, 'reversed': False, 'length': 19.707, 'speed_kph': 30.0, 'travel_time': 2.4}\n",
      "{'osmid': 27232034, 'name': 'Wilhelmstraße', 'highway': 'residential', 'maxspeed': '30', 'oneway': False, 'reversed': False, 'length': 9.994, 'speed_kph': 30.0, 'travel_time': 1.2}\n",
      "{'osmid': 27232034, 'name': 'Wilhelmstraße', 'highway': 'residential', 'maxspeed': '30', 'oneway': False, 'reversed': False, 'length': 46.196, 'geometry': <LINESTRING (8.289 50.734, 8.289 50.734, 8.289 50.734)>, 'speed_kph': 30.0, 'travel_time': 5.5}\n",
      "{'osmid': 27232034, 'name': 'Wilhelmstraße', 'highway': 'residential', 'maxspeed': '30', 'oneway': False, 'reversed': False, 'length': 3.514, 'speed_kph': 30.0, 'travel_time': 0.4}\n",
      "{'osmid': 27232034, 'name': 'Wilhelmstraße', 'highway': 'residential', 'maxspeed': '30', 'oneway': False, 'reversed': False, 'length': 40.818, 'speed_kph': 30.0, 'travel_time': 4.9}\n",
      "{'osmid': 27232034, 'name': 'Wilhelmstraße', 'highway': 'residential', 'maxspeed': '30', 'oneway': False, 'reversed': False, 'length': 50.796, 'geometry': <LINESTRING (8.289 50.734, 8.289 50.735, 8.289 50.735)>, 'speed_kph': 30.0, 'travel_time': 6.1}\n",
      "{'osmid': [31259028, 27427164], 'highway': ['footway', 'steps'], 'oneway': False, 'reversed': True, 'length': 22.119999999999997, 'geometry': <LINESTRING (8.289 50.735, 8.289 50.735, 8.289 50.735)>, 'speed_kph': 56.2, 'travel_time': 1.4}\n",
      "{'osmid': 601350253, 'highway': 'footway', 'oneway': False, 'reversed': True, 'length': 4.804, 'speed_kph': 56.2, 'travel_time': 0.3}\n",
      "{'osmid': 601350253, 'highway': 'footway', 'oneway': False, 'reversed': True, 'length': 29.353, 'geometry': <LINESTRING (8.289 50.735, 8.289 50.735, 8.289 50.735)>, 'speed_kph': 56.2, 'travel_time': 1.9}\n",
      "{'osmid': 601350253, 'highway': 'footway', 'oneway': False, 'reversed': True, 'length': 30.684, 'speed_kph': 56.2, 'travel_time': 2.0}\n",
      "{'osmid': [27427168, 27427165], 'highway': ['service', 'footway'], 'oneway': False, 'reversed': True, 'length': 28.39, 'name': 'Hofgartenstraße', 'maxspeed': '50', 'geometry': <LINESTRING (8.289 50.735, 8.289 50.735, 8.289 50.736)>, 'speed_kph': 50.0, 'travel_time': 2.0}\n",
      "{'osmid': 27427168, 'name': 'Hofgartenstraße', 'highway': 'service', 'maxspeed': '50', 'oneway': False, 'reversed': True, 'length': 22.813, 'speed_kph': 50.0, 'travel_time': 1.6}\n",
      "{'osmid': 342530434, 'highway': 'footway', 'oneway': False, 'reversed': True, 'length': 2.353, 'speed_kph': 56.2, 'travel_time': 0.2}\n",
      "{'osmid': 617230995, 'highway': 'footway', 'oneway': False, 'reversed': True, 'length': 51.342, 'speed_kph': 56.2, 'travel_time': 3.3}\n",
      "{'osmid': 601350251, 'highway': 'footway', 'oneway': False, 'reversed': True, 'length': 3.599, 'speed_kph': 56.2, 'travel_time': 0.2}\n",
      "{'osmid': [27427168, 741729332, 741729333], 'name': 'Hofgartenstraße', 'highway': ['service', 'path'], 'maxspeed': '50', 'oneway': False, 'reversed': True, 'length': 120.99000000000001, 'geometry': <LINESTRING (8.289 50.736, 8.289 50.737, 8.289 50.737, 8.289 50.737)>, 'speed_kph': 50.0, 'travel_time': 8.7}\n",
      "{'osmid': 27427174, 'name': 'Rasaunenberg', 'highway': 'residential', 'maxspeed': '50', 'oneway': False, 'reversed': True, 'length': 19.648, 'speed_kph': 50.0, 'travel_time': 1.4}\n",
      "{'osmid': 617231135, 'highway': 'footway', 'oneway': False, 'reversed': True, 'length': 37.288, 'speed_kph': 56.2, 'travel_time': 2.4}\n",
      "{'osmid': 617231135, 'highway': 'footway', 'oneway': False, 'reversed': True, 'length': 21.035, 'speed_kph': 56.2, 'travel_time': 1.3}\n",
      "{'osmid': 386830292, 'oneway': True, 'lanes': '1', 'name': 'Wilhelmsplatz', 'highway': 'residential', 'maxspeed': '30', 'reversed': False, 'length': 8.085, 'speed_kph': 30.0, 'travel_time': 1.0}\n",
      "{'osmid': 29048878, 'oneway': True, 'name': 'Wilhelmsplatz', 'highway': 'residential', 'maxspeed': '30', 'reversed': False, 'length': 38.274, 'speed_kph': 30.0, 'travel_time': 4.6}\n",
      "{'osmid': 27427176, 'oneway': True, 'name': 'Wilhelmsplatz', 'highway': 'residential', 'maxspeed': '30', 'reversed': False, 'length': 4.775, 'speed_kph': 30.0, 'travel_time': 0.6}\n",
      "{'osmid': 27427176, 'oneway': True, 'name': 'Wilhelmsplatz', 'highway': 'residential', 'maxspeed': '30', 'reversed': False, 'length': 5.02, 'geometry': <LINESTRING (8.289 50.738, 8.289 50.738, 8.289 50.738)>, 'speed_kph': 30.0, 'travel_time': 0.6}\n",
      "{'osmid': 27859461, 'name': 'Hüttenplatz', 'highway': 'living_street', 'oneway': False, 'reversed': False, 'length': 47.928, 'geometry': <LINESTRING (8.289 50.738, 8.289 50.738, 8.289 50.738, 8.289 50.738, 8.289 5...>, 'speed_kph': 56.2, 'travel_time': 3.1}\n",
      "{'osmid': 27859461, 'name': 'Hüttenplatz', 'highway': 'living_street', 'oneway': False, 'reversed': False, 'length': 58.91499999999999, 'geometry': <LINESTRING (8.289 50.738, 8.289 50.738, 8.289 50.738, 8.289 50.738, 8.289 5...>, 'speed_kph': 56.2, 'travel_time': 3.8}\n",
      "{'osmid': 60176749, 'name': 'Hüttenplatz', 'highway': 'living_street', 'oneway': False, 'reversed': False, 'length': 10.281, 'speed_kph': 56.2, 'travel_time': 0.7}\n",
      "{'osmid': 60176749, 'name': 'Hüttenplatz', 'highway': 'living_street', 'oneway': False, 'reversed': False, 'length': 21.403, 'geometry': <LINESTRING (8.289 50.739, 8.288 50.739, 8.288 50.739)>, 'speed_kph': 56.2, 'travel_time': 1.4}\n"
     ]
    }
   ],
   "source": [
    "import networkx as nx\n",
    "\n",
    "for e in zip(nx.shortest_path(G, orig, dest, weight=\"travel_time\"), nx.shortest_path(G, orig, dest, weight=\"travel_time\")[1:]):\n",
    "    print(G.edges[e+(0,)])\n",
    "    "
   ]
  },
  {
   "cell_type": "code",
   "execution_count": 53,
   "metadata": {},
   "outputs": [
    {
     "name": "stdout",
     "output_type": "stream",
     "text": [
      "[305879658, 305699416, 305879667]\n"
     ]
    }
   ],
   "source": [
    "print(list(G.successors(897605955)))"
   ]
  },
  {
   "cell_type": "code",
   "execution_count": 105,
   "metadata": {},
   "outputs": [
    {
     "data": {
      "text/plain": [
       "[897605955,\n",
       " 305879667,\n",
       " 305879653,\n",
       " 305699591,\n",
       " 305699494,\n",
       " 280189586,\n",
       " 246684500,\n",
       " 492083941,\n",
       " 9449926144,\n",
       " 8209684849,\n",
       " 8427943382,\n",
       " 10592352510,\n",
       " 301116260,\n",
       " 6152818465,\n",
       " 6152818451,\n",
       " 5834862388,\n",
       " 3495104803,\n",
       " 301116342,\n",
       " 3495105697,\n",
       " 5834862387,\n",
       " 5834862386,\n",
       " 301116299,\n",
       " 301116269,\n",
       " 5834864978,\n",
       " 11240655056,\n",
       " 5834864977,\n",
       " 294195553,\n",
       " 298868316,\n",
       " 11240655121,\n",
       " 1673920905,\n",
       " 305879823,\n",
       " 305879802,\n",
       " 6022272516,\n",
       " 294195551]"
      ]
     },
     "execution_count": 105,
     "metadata": {},
     "output_type": "execute_result"
    }
   ],
   "source": [
    "shortest = nx.shortest_path(G, source=orig, target=dest, weight=\"travel_time\")\n",
    "shortest"
   ]
  },
  {
   "cell_type": "code",
   "execution_count": 106,
   "metadata": {},
   "outputs": [
    {
     "data": {
      "text/plain": [
       "113.33478278655092"
      ]
     },
     "execution_count": 106,
     "metadata": {},
     "output_type": "execute_result"
    }
   ],
   "source": [
    "import SSPStaticModel\n",
    "import SSPStaticPolicy\n",
    "\n",
    "import importlib\n",
    "importlib.reload(SSPStaticModel)\n",
    "importlib.reload(SSPStaticPolicy)\n",
    "\n",
    "m = SSPStaticModel.SSPStatic(G=G, origin=orig, destination=dest, lower_bound=1., upper_bound=1.001)\n",
    "pol = SSPStaticPolicy.SSPStaticPolicy(model=m)\n",
    "pol.run_policy(2)"
   ]
  },
  {
   "cell_type": "code",
   "execution_count": 104,
   "metadata": {},
   "outputs": [
    {
     "data": {
      "text/plain": [
       "[897605955,\n",
       " 305879667,\n",
       " 305879653,\n",
       " 305699591,\n",
       " 305699494,\n",
       " 280189586,\n",
       " 246684500,\n",
       " 492083941,\n",
       " 9449926144,\n",
       " 8209684849,\n",
       " 8427943382,\n",
       " 10592352510,\n",
       " 301116260,\n",
       " 6152818465,\n",
       " 6152818451,\n",
       " 5834862388,\n",
       " 3495104803,\n",
       " 301116342,\n",
       " 3495105697,\n",
       " 5834862387,\n",
       " 5834862386,\n",
       " 301116299,\n",
       " 301116269,\n",
       " 5834864978,\n",
       " 11240655056,\n",
       " 5834864977,\n",
       " 294195553,\n",
       " 298868316,\n",
       " 11240655121,\n",
       " 1673920905,\n",
       " 305879823,\n",
       " 305879802,\n",
       " 6022272516,\n",
       " 294195551]"
      ]
     },
     "execution_count": 104,
     "metadata": {},
     "output_type": "execute_result"
    }
   ],
   "source": [
    "m.path"
   ]
  }
 ],
 "metadata": {
  "kernelspec": {
   "display_name": "Python 3",
   "language": "python",
   "name": "python3"
  },
  "language_info": {
   "codemirror_mode": {
    "name": "ipython",
    "version": 3
   },
   "file_extension": ".py",
   "mimetype": "text/x-python",
   "name": "python",
   "nbconvert_exporter": "python",
   "pygments_lexer": "ipython3",
   "version": "3.10.12"
  }
 },
 "nbformat": 4,
 "nbformat_minor": 2
}
